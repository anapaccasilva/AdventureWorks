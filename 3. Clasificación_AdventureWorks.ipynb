{
  "nbformat": 4,
  "nbformat_minor": 0,
  "metadata": {
    "colab": {
      "provenance": [],
      "authorship_tag": "ABX9TyO64NJxDHrpDdGKy2Q8FIng"
    },
    "kernelspec": {
      "name": "python3",
      "display_name": "Python 3"
    },
    "language_info": {
      "name": "python"
    }
  },
  "cells": [
    {
      "cell_type": "markdown",
      "source": [
        "![Logo_UNIR.png](data:image/png;base64,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)\n",
        "---\n",
        "\n",
        "\n",
        "# **Máster Universitario en Inteligencia de Negocio**\n",
        "# Proyecto Transversal"
      ],
      "metadata": {
        "id": "DYF-x-nOpZ0M"
      }
    },
    {
      "cell_type": "markdown",
      "source": [
        "## Importar dataset"
      ],
      "metadata": {
        "id": "78XfgupczlLF"
      }
    },
    {
      "cell_type": "code",
      "source": [
        "import pandas as pd\n",
        "url = \"https://github.com/anapaccasilva/AdventureWorks/blob/main/DataSet%20SQL%20Analisis%20Masivo%20de%20Datos%20(1).xlsx?raw=true\""
      ],
      "metadata": {
        "id": "dPfBjivulYfL"
      },
      "execution_count": 27,
      "outputs": []
    },
    {
      "cell_type": "code",
      "source": [
        "customersPurchases = pd.read_excel(url ,sheet_name=\"Var Discreta Adq Bicicleta\")"
      ],
      "metadata": {
        "id": "jq_9TTrf7AHb"
      },
      "execution_count": 28,
      "outputs": []
    },
    {
      "cell_type": "markdown",
      "source": [
        "### Preparación"
      ],
      "metadata": {
        "id": "f87lxjhumA-o"
      }
    },
    {
      "cell_type": "markdown",
      "source": [
        "columnas inútiles:\n",
        "- CustomerID\n",
        "- PersonType\n",
        "- PersonID\n",
        "\n",
        "columnas redudantes\n",
        "- Country\n",
        "- CountryRegionCode\n",
        "- BirthDate\n",
        "- TotalAmount"
      ],
      "metadata": {
        "id": "fl3LKDC4mA-o"
      }
    },
    {
      "cell_type": "code",
      "source": [
        "customersPurchases.drop(['CustomerID', 'PersonType', 'PersonID', 'Country', 'BirthDate', 'DateFirstPurchase', 'TotalAmount', 'CountryRegionCode'], axis=1, inplace=True)  "
      ],
      "metadata": {
        "id": "vBtvQUEEmA-o"
      },
      "execution_count": 29,
      "outputs": []
    },
    {
      "cell_type": "markdown",
      "source": [
        "# **Modelo de Clasificación**"
      ],
      "metadata": {
        "id": "YPq0gN86JTI1"
      }
    },
    {
      "cell_type": "markdown",
      "source": [
        "### Preparación de los datos"
      ],
      "metadata": {
        "id": "MjAx3isM6Nuk"
      }
    },
    {
      "cell_type": "markdown",
      "source": [
        "Separa los datos entre train y test en una proporcion de 80/20"
      ],
      "metadata": {
        "id": "CqrfBq9u4EDf"
      }
    },
    {
      "cell_type": "code",
      "source": [
        "dict_yearly_income = {'0-25000': 1, '25001-50000': 2, '50001-75000': 3, '75001-100000': 4, 'greater than 100000': 5}"
      ],
      "metadata": {
        "id": "dT9BSbWf9wGp"
      },
      "execution_count": 30,
      "outputs": []
    },
    {
      "cell_type": "code",
      "source": [
        "customersPurchases[\"YearlyIncome\"] = customersPurchases[\"YearlyIncome\"].map(dict_yearly_income)"
      ],
      "metadata": {
        "id": "gToKYVsn-EDi"
      },
      "execution_count": 31,
      "outputs": []
    },
    {
      "cell_type": "code",
      "source": [
        "from sklearn.model_selection import train_test_split\n",
        "\n",
        "X = customersPurchases.drop(['BikePurchase'], axis=1)\n",
        "y =customersPurchases['BikePurchase']\n",
        "\n",
        "X_train, X_test, y_train, y_test = train_test_split(X, y, \n",
        "                                                    test_size = 0.2, \n",
        "                                                    random_state = 123)"
      ],
      "metadata": {
        "id": "jVQfG6RWrMDS"
      },
      "execution_count": 32,
      "outputs": []
    },
    {
      "cell_type": "markdown",
      "source": [
        "Transforma las variables categoricas en variables numericas"
      ],
      "metadata": {
        "id": "jvuzDrqn38aX"
      }
    },
    {
      "cell_type": "code",
      "source": [
        "!pip install category-encoders\n",
        "import category_encoders as ce"
      ],
      "metadata": {
        "id": "OE7xq6F0lKMX",
        "colab": {
          "base_uri": "https://localhost:8080/"
        },
        "outputId": "9b927a25-0037-45e2-cc15-2305d0ea700c"
      },
      "execution_count": 33,
      "outputs": [
        {
          "output_type": "stream",
          "name": "stdout",
          "text": [
            "Looking in indexes: https://pypi.org/simple, https://us-python.pkg.dev/colab-wheels/public/simple/\n",
            "Requirement already satisfied: category-encoders in /usr/local/lib/python3.9/dist-packages (2.6.0)\n",
            "Requirement already satisfied: statsmodels>=0.9.0 in /usr/local/lib/python3.9/dist-packages (from category-encoders) (0.13.5)\n",
            "Requirement already satisfied: patsy>=0.5.1 in /usr/local/lib/python3.9/dist-packages (from category-encoders) (0.5.3)\n",
            "Requirement already satisfied: numpy>=1.14.0 in /usr/local/lib/python3.9/dist-packages (from category-encoders) (1.22.4)\n",
            "Requirement already satisfied: pandas>=1.0.5 in /usr/local/lib/python3.9/dist-packages (from category-encoders) (1.5.3)\n",
            "Requirement already satisfied: scikit-learn>=0.20.0 in /usr/local/lib/python3.9/dist-packages (from category-encoders) (1.2.2)\n",
            "Requirement already satisfied: scipy>=1.0.0 in /usr/local/lib/python3.9/dist-packages (from category-encoders) (1.10.1)\n",
            "Requirement already satisfied: python-dateutil>=2.8.1 in /usr/local/lib/python3.9/dist-packages (from pandas>=1.0.5->category-encoders) (2.8.2)\n",
            "Requirement already satisfied: pytz>=2020.1 in /usr/local/lib/python3.9/dist-packages (from pandas>=1.0.5->category-encoders) (2022.7.1)\n",
            "Requirement already satisfied: six in /usr/local/lib/python3.9/dist-packages (from patsy>=0.5.1->category-encoders) (1.16.0)\n",
            "Requirement already satisfied: joblib>=1.1.1 in /usr/local/lib/python3.9/dist-packages (from scikit-learn>=0.20.0->category-encoders) (1.2.0)\n",
            "Requirement already satisfied: threadpoolctl>=2.0.0 in /usr/local/lib/python3.9/dist-packages (from scikit-learn>=0.20.0->category-encoders) (3.1.0)\n",
            "Requirement already satisfied: packaging>=21.3 in /usr/local/lib/python3.9/dist-packages (from statsmodels>=0.9.0->category-encoders) (23.0)\n"
          ]
        }
      ]
    },
    {
      "cell_type": "code",
      "source": [
        "encoder = ce.OrdinalEncoder(cols=['Group', 'MaritalStatus', 'Gender', 'Education', 'Occupation'])"
      ],
      "metadata": {
        "id": "_xCQ6bSo3r5_"
      },
      "execution_count": 34,
      "outputs": []
    },
    {
      "cell_type": "code",
      "source": [
        "X_train = encoder.fit_transform(X_train)\n",
        "X_test = encoder.transform(X_test)"
      ],
      "metadata": {
        "id": "bqGKvWGWrFmp"
      },
      "execution_count": 35,
      "outputs": []
    },
    {
      "cell_type": "markdown",
      "source": [
        "## Modelo de clasificación: Random Forest"
      ],
      "metadata": {
        "id": "Qi7UjP-W05ee"
      }
    },
    {
      "cell_type": "code",
      "source": [
        "from sklearn.ensemble import RandomForestClassifier\n",
        "from sklearn.metrics import accuracy_score\n",
        "\n",
        "modelo_rfc = RandomForestClassifier(n_estimators = 10,\n",
        "                                    random_state=123)\n",
        "modelo_rfc.fit(X_train, y_train)\n",
        "y_pred = modelo_rfc.predict(X_test)\n",
        "acc_randomforest = accuracy_score(y_test, y_pred)\n",
        "print(f'Accuracy del modelo usando 10 árboles de decisión : {acc_randomforest}')"
      ],
      "metadata": {
        "id": "OwFspFSolQTE",
        "colab": {
          "base_uri": "https://localhost:8080/"
        },
        "outputId": "f5837a0b-766c-4953-fc03-82aa203ab578"
      },
      "execution_count": 36,
      "outputs": [
        {
          "output_type": "stream",
          "name": "stdout",
          "text": [
            "Accuracy del modelo usando 10 árboles de decisión : 0.7698133621855558\n"
          ]
        }
      ]
    },
    {
      "cell_type": "markdown",
      "source": [
        "Matriz de confusión"
      ],
      "metadata": {
        "id": "ZCr_ujHy5VID"
      }
    },
    {
      "cell_type": "code",
      "source": [
        "from sklearn.metrics import classification_report\n",
        "from sklearn.metrics import confusion_matrix, ConfusionMatrixDisplay\n",
        "import matplotlib.pyplot as plt"
      ],
      "metadata": {
        "id": "iAgEGtN02VZu"
      },
      "execution_count": 41,
      "outputs": []
    },
    {
      "cell_type": "code",
      "source": [
        "print(classification_report(y_test, y_pred, digits=4))\n",
        "\n",
        "cm = confusion_matrix(y_test, y_pred)\n",
        "disp = ConfusionMatrixDisplay(confusion_matrix=cm)\n",
        "disp.plot()\n",
        "plt.title('Matriz de confusión: Random Forest Model')\n",
        "plt.show()"
      ],
      "metadata": {
        "id": "V41nXgYs1Pqv",
        "colab": {
          "base_uri": "https://localhost:8080/",
          "height": 628
        },
        "outputId": "81d25d69-3e22-448f-a956-b0a059699cec"
      },
      "execution_count": 42,
      "outputs": [
        {
          "output_type": "stream",
          "name": "stdout",
          "text": [
            "              precision    recall  f1-score   support\n",
            "\n",
            "           0     0.7596    0.7767    0.7681      1814\n",
            "           1     0.7801    0.7631    0.7715      1883\n",
            "\n",
            "    accuracy                         0.7698      3697\n",
            "   macro avg     0.7698    0.7699    0.7698      3697\n",
            "weighted avg     0.7700    0.7698    0.7698      3697\n",
            "\n"
          ]
        },
        {
          "output_type": "display_data",
          "data": {
            "text/plain": [
              "<Figure size 640x480 with 2 Axes>"
            ],
            "image/png": "[encoded data removed]"
          },
          "metadata": {}
        }
      ]
    },
    {
      "cell_type": "markdown",
      "source": [
        "## Modelo de clasificación: Regresión Logistica"
      ],
      "metadata": {
        "id": "TgXQI9Sq7MT5"
      }
    },
    {
      "cell_type": "code",
      "source": [
        "from sklearn.linear_model import LogisticRegression\n",
        "modelo_logistic = LogisticRegression(solver='lbfgs', max_iter=1000)"
      ],
      "metadata": {
        "id": "3twFDyiP9JkR"
      },
      "execution_count": 43,
      "outputs": []
    },
    {
      "cell_type": "markdown",
      "source": [
        "Modelo y accuracy"
      ],
      "metadata": {
        "id": "6tDcL3IA6JTX"
      }
    },
    {
      "cell_type": "code",
      "source": [
        "clf2 = modelo_logistic.fit(X_train, y_train)\n",
        "predictions = modelo_logistic.predict(X_test)\n",
        "\n",
        "acc_logistic = modelo_logistic.score(X_test, y_test)\n",
        "print(f'Accuracy del modelo usando regresion logistica: {acc_logistic}')"
      ],
      "metadata": {
        "id": "YgeEgBQA7MT6",
        "colab": {
          "base_uri": "https://localhost:8080/"
        },
        "outputId": "c49e2dbd-d50d-4412-b501-f591a4b4f67c"
      },
      "execution_count": 44,
      "outputs": [
        {
          "output_type": "stream",
          "name": "stdout",
          "text": [
            "Accuracy del modelo usando regresion logistica: 0.6256424127671084\n"
          ]
        }
      ]
    },
    {
      "cell_type": "markdown",
      "source": [
        "Matriz de confusión del modelo"
      ],
      "metadata": {
        "id": "3Ara1H8b6RsK"
      }
    },
    {
      "cell_type": "code",
      "source": [
        "print(classification_report(y_test, predictions, digits=4))\n",
        "\n",
        "cm = confusion_matrix(y_test, predictions)\n",
        "disp = ConfusionMatrixDisplay(confusion_matrix=cm)\n",
        "disp.plot()\n",
        "plt.title('Matriz de confusión: Logistic Regression Model')\n",
        "plt.show()"
      ],
      "metadata": {
        "id": "7DIIcRhu7MT7",
        "colab": {
          "base_uri": "https://localhost:8080/",
          "height": 628
        },
        "outputId": "37e0d0a2-0ae3-4f9b-8bf3-5b8ec5627889"
      },
      "execution_count": 45,
      "outputs": [
        {
          "output_type": "stream",
          "name": "stdout",
          "text": [
            "              precision    recall  f1-score   support\n",
            "\n",
            "           0     0.6222    0.6036    0.6128      1814\n",
            "           1     0.6288    0.6468    0.6377      1883\n",
            "\n",
            "    accuracy                         0.6256      3697\n",
            "   macro avg     0.6255    0.6252    0.6252      3697\n",
            "weighted avg     0.6255    0.6256    0.6255      3697\n",
            "\n"
          ]
        },
        {
          "output_type": "display_data",
          "data": {
            "text/plain": [
              "<Figure size 640x480 with 2 Axes>"
            ],
            "image/png": "[encoded data removed]"
          },
          "metadata": {}
        }
      ]
    },
    {
      "cell_type": "markdown",
      "source": [
        "## Árbol de decisión"
      ],
      "metadata": {
        "id": "zQ3gDcC4EPCv"
      }
    },
    {
      "cell_type": "markdown",
      "source": [
        "El modelo de árbol de decisión fue construído con las mismas 6 variables independientes utilizadas en el modelo Random Forest mejorado"
      ],
      "metadata": {
        "id": "kYAk4ZqA6fP_"
      }
    },
    {
      "cell_type": "code",
      "source": [
        "from sklearn.tree import DecisionTreeClassifier "
      ],
      "metadata": {
        "id": "7QMB6aw2EPC1"
      },
      "execution_count": 46,
      "outputs": []
    },
    {
      "cell_type": "code",
      "source": [
        "model = DecisionTreeClassifier (criterion=\"gini\",\n",
        "                                max_depth=2, \n",
        "                                min_samples_leaf=5, \n",
        "                                random_state=123)\n",
        "clf3 = model.fit(X_train, y_train)"
      ],
      "metadata": {
        "id": "W0PayLdFEwXP"
      },
      "execution_count": 47,
      "outputs": []
    },
    {
      "cell_type": "markdown",
      "source": [
        "Modelo y accuracy"
      ],
      "metadata": {
        "id": "lCa6Oiwk6nrR"
      }
    },
    {
      "cell_type": "code",
      "source": [
        "from sklearn.metrics import accuracy_score,classification_report,confusion_matrix\n",
        "\n",
        "y_predict = model.predict(X_test)\n",
        "acc_arbol = accuracy_score(y_test,y_predict)\n",
        "print(f'Accuracy del modelo usando árbol de decisión: {acc_arbol}')"
      ],
      "metadata": {
        "id": "hFa5BAERFDRo",
        "colab": {
          "base_uri": "https://localhost:8080/"
        },
        "outputId": "2cd708b7-8376-416b-8bf7-012fa9fa7261"
      },
      "execution_count": 48,
      "outputs": [
        {
          "output_type": "stream",
          "name": "stdout",
          "text": [
            "Accuracy del modelo usando árbol de decisión: 0.6058966729780904\n"
          ]
        }
      ]
    },
    {
      "cell_type": "markdown",
      "source": [
        "Matriz de confusión del modelo"
      ],
      "metadata": {
        "id": "IwPFGpJZ6vOn"
      }
    },
    {
      "cell_type": "code",
      "source": [
        "print(classification_report(y_test, y_predict, digits=4))\n",
        "\n",
        "cm = confusion_matrix(y_test, y_predict)\n",
        "disp = ConfusionMatrixDisplay(confusion_matrix=cm)\n",
        "disp.plot()\n",
        "plt.title('Matriz de confusión: Decision Tree Model')\n",
        "plt.show()"
      ],
      "metadata": {
        "id": "hRa2iX3gEPC2",
        "colab": {
          "base_uri": "https://localhost:8080/",
          "height": 628
        },
        "outputId": "c868e9b6-ba89-42bd-d2cb-c01399d04ba7"
      },
      "execution_count": 49,
      "outputs": [
        {
          "output_type": "stream",
          "name": "stdout",
          "text": [
            "              precision    recall  f1-score   support\n",
            "\n",
            "           0     0.5901    0.6444    0.6161      1814\n",
            "           1     0.6241    0.5688    0.5952      1883\n",
            "\n",
            "    accuracy                         0.6059      3697\n",
            "   macro avg     0.6071    0.6066    0.6056      3697\n",
            "weighted avg     0.6074    0.6059    0.6054      3697\n",
            "\n"
          ]
        },
        {
          "output_type": "display_data",
          "data": {
            "text/plain": [
              "<Figure size 640x480 with 2 Axes>"
            ],
            "image/png": "[encoded data removed]"
          },
          "metadata": {}
        }
      ]
    },
    {
      "cell_type": "markdown",
      "source": [
        "## Elección del mejor modelo"
      ],
      "metadata": {
        "id": "Oe-Q2ObFGUxi"
      }
    },
    {
      "cell_type": "code",
      "source": [
        "# diccionário con los modelos testados y la precisión de cada uno\n",
        "accuracy_dict = {'Random Forest': acc_randomforest, 'Regresión Logistica': acc_logistic, 'Árbol de Decisión': acc_arbol}\n",
        "\n",
        "# identifica en el diccionário el iten com mayor key (mayor accuracy entre los modelos)\n",
        "max_value = max(accuracy_dict.values())  # maximum value\n",
        "max_keys = ''.join([k for k, v in accuracy_dict.items() if v == max_value])\n",
        "\n",
        "print(f'El modelo con mayor poder de clasificación es el modelo {max_keys} con {max_value} de accuracy')"
      ],
      "metadata": {
        "id": "ceKAw4AeGZEa",
        "colab": {
          "base_uri": "https://localhost:8080/"
        },
        "outputId": "eae2b4d8-6ed0-4453-8c4e-6279cf21004a"
      },
      "execution_count": 50,
      "outputs": [
        {
          "output_type": "stream",
          "name": "stdout",
          "text": [
            "El modelo con mayor poder de clasificación es el modelo Random Forest con 0.7698133621855558 de accuracy\n"
          ]
        }
      ]
    },
    {
      "cell_type": "markdown",
      "source": [
        "\n",
        "<font face=\"Biome\" size=5 color='#0093C0' > Análisis <font>\n",
        "\n",
        "---\n",
        "\n",
        "\n",
        "\n",
        "<font color='4A4A4A'> *Entre los diversos modelos de clasificación existentes, fueron tomados tres – [Random Forest](#scrollTo=Qi7UjP-W05ee&line=1&uniqifier=1), [Regresión Logística](#scrollTo=TgXQI9Sq7MT5&line=1&uniqifier=1) y [Árbol de Decisión](#scrollTo=zQ3gDcC4EPCv&line=1&uniqifier=1). Analizando las matrices de confusión entre los registros históricos y las previsiones de cada modelo, se nota que los 3 modelos tienen una precisión superior a 60%. De los 3 modelos, el modelo de árbol de decisión presentó un mayor numero de falsos negativos, o sea, poco más de la mitad de los clientes clasificados como no compradores de hecho compraron bicicleta. Con relación a los que sí compraron la bicicleta, la precisión de clasificación del modelo fue similar a de los otros dos. El modelo de clasificación logística tuvo un desempeño un poco mejor con relación a los que no compraron bicicleta, clasificando correctamente 60% de ellos. Es importante tener en cuenta que apenas la accuracy no significa que él modelo sea bueno, una vez que un dataset desbalanceado (es decir, con más incidencias de un valor do que otro para la variable que se desea predecir) puede tener una alta accuracy, pero baja precisión para cada valor. En ese caso, cómo observado en el [análisis preliminar](https://github.com/anapaccasilva/AdventureWorks_Python/blob/main/1.%20EDA_AdventureWorks.ipynb), los valores para la compra de bicicleta están distribuidos casi que igualmente entre los dos valores, por lo que en ese caso es seguro tomar la accuracy como factor de decisión de cuál modelo elegir. Luego de haber elegido el modelo ideal, fue creada una calculadora de clasificación donde el usuario inserta los datos del cliente de interés y recibe cómo respuesta una clasificación de que si es más probable que él compre o no una bicicleta.*"
      ],
      "metadata": {
        "id": "euqBcPSD8l92"
      }
    },
    {
      "cell_type": "markdown",
      "source": [
        "## Haciendo predicción con el modelo"
      ],
      "metadata": {
        "id": "2gMvrdTzH5J5"
      }
    },
    {
      "cell_type": "code",
      "source": [
        "def inic():\n",
        "  print('''                                CALCULADORA DE PROBABILIDAD DE VENTA\n",
        "          \n",
        "          Esa es la calculadora de probailidad de ventas de bicicleta de AdventureWorks. \n",
        "          Contesta las preguntas con los datos del cliente y descubra si ella/él comprará una bicicleta''')"
      ],
      "metadata": {
        "id": "WVEp65e4chJE"
      },
      "execution_count": 97,
      "outputs": []
    },
    {
      "cell_type": "code",
      "source": [
        "def age():\n",
        "  age = 'edad'\n",
        "  while type(age) != int:\n",
        "    try:\n",
        "      age = int(input('¿Cuál es la edad del cliente? '))\n",
        "    except:\n",
        "      print('Carácter inválido. Inserte un valor numérico\\n')\n",
        "      continue\n",
        "  return age"
      ],
      "metadata": {
        "id": "8s8_gWgsfe6c"
      },
      "execution_count": 98,
      "outputs": []
    },
    {
      "cell_type": "code",
      "source": [
        "def carros():\n",
        "  carros = ' '\n",
        "  while type(carros) != int:\n",
        "    try:\n",
        "      carros = int(input('¿Cuántos carros tiene el cliente? '))\n",
        "    except:\n",
        "      print('Carácter inválido. Inserte un valor numérico\\n')\n",
        "      continue\n",
        "  return carros"
      ],
      "metadata": {
        "id": "3CFJwvfzRDwm"
      },
      "execution_count": 99,
      "outputs": []
    },
    {
      "cell_type": "code",
      "source": [
        "def hijos():\n",
        "  hijos = ' '\n",
        "  while type(hijos) != int:\n",
        "    try:\n",
        "      hijos = int(input('¿Cuántos niños tiene el cliente en la casa? '))\n",
        "    except:\n",
        "      print('Carácter inválido. Inserte un valor numérico\\n')\n",
        "      continue\n",
        "  return hijos"
      ],
      "metadata": {
        "id": "NrkRSe47RRx_"
      },
      "execution_count": 100,
      "outputs": []
    },
    {
      "cell_type": "code",
      "source": [
        "def education(): \n",
        "  education = ' '\n",
        "  while type(education) != int:\n",
        "      try:\n",
        "        education = int(input(\n",
        "        '''¿Cuál es el nivel de educación del cliente? Inserte el número con la opción correspondente: \n",
        "        1 - Bachelors\n",
        "        2 - Partial College\n",
        "        3 - Graduate Degree\n",
        "        4 - Partial High School '''))\n",
        "        \n",
        "        if education in range(1,5):\n",
        "          pass\n",
        "        else:\n",
        "          print('Carácter inválido. Inserte un valor entre 1 y 4\\n')\n",
        "          education = ''\n",
        "\n",
        "      except:\n",
        "        print('Carácter inválido. Inserte un valor numérico\\n')\n",
        "        continue\n",
        "\n",
        "  return education"
      ],
      "metadata": {
        "id": "g-HAEgHrRk55"
      },
      "execution_count": 101,
      "outputs": []
    },
    {
      "cell_type": "code",
      "source": [
        "def countrygroup(): \n",
        "  countrygroup = ' '\n",
        "  while type(countrygroup) != int:\n",
        "      try:\n",
        "        countrygroup = int(input(\n",
        "        '''¿Cuál es la región del cliente? Inserte el número con la opción correspondente: \n",
        "        1 - North America\n",
        "        2 - Europe\n",
        "        3 - Pacific'''))\n",
        "        \n",
        "        if countrygroup in range(1,4):\n",
        "          pass\n",
        "        else:\n",
        "          print('Carácter inválido. Inserte un valor entre 1 y 3\\n')\n",
        "          countrygroup = ''\n",
        "\n",
        "      except:\n",
        "        print('Carácter inválido. Inserte un valor numérico\\n')\n",
        "        continue\n",
        "\n",
        "  return countrygroup"
      ],
      "metadata": {
        "id": "SBw-xu17UTTx"
      },
      "execution_count": 102,
      "outputs": []
    },
    {
      "cell_type": "code",
      "source": [
        "def occupation(): \n",
        "  occupation = ' '\n",
        "  while type(occupation) != int:\n",
        "      try:\n",
        "        occupation = int(input(\n",
        "        '''¿Cuál es el la ocupación del cliente? Inserte el número con la opción correspondente: \n",
        "        1 - Clerical\n",
        "        2 - Management\n",
        "        3 - Manual\n",
        "        4 - Professional\n",
        "        5 - Skilled Manual'''))\n",
        "\n",
        "        \n",
        "        if occupation in range(1,6):\n",
        "          pass\n",
        "        else:\n",
        "          print('Carácter inválido. Inserte un valor entre 1 y 5\\n')\n",
        "          income = ''\n",
        "\n",
        "      except:\n",
        "        print('Carácter inválido. Inserte un valor numérico\\n')\n",
        "        continue\n",
        "\n",
        "  return occupation"
      ],
      "metadata": {
        "id": "Oa2NnagH70Hu"
      },
      "execution_count": 103,
      "outputs": []
    },
    {
      "cell_type": "code",
      "source": [
        "def marital(): \n",
        "  marital = ' '\n",
        "  while type(marital) != int:\n",
        "      try:\n",
        "        marital = int(input(\n",
        "        '''¿Cuál es el estado civil del cliente? Inserte el número con la opción correspondente: \n",
        "        1 - Married\n",
        "        2 - Single '''))\n",
        "        \n",
        "        if marital in range(1,3):\n",
        "          pass\n",
        "        else:\n",
        "          print('Carácter inválido. Inserte un valor entre 1 y 2\\n')\n",
        "          marital = ''\n",
        "\n",
        "      except:\n",
        "        print('Carácter inválido. Inserte un valor numérico\\n')\n",
        "        continue\n",
        "\n",
        "  return marital"
      ],
      "metadata": {
        "id": "6rvjcxwZ5qhJ"
      },
      "execution_count": 104,
      "outputs": []
    },
    {
      "cell_type": "code",
      "source": [
        "def gender(): \n",
        "  gender = ' '\n",
        "  while type(gender) != int:\n",
        "      try:\n",
        "        gender = int(input(\n",
        "        '''¿Cuál es el género del cliente? Inserte el número con la opción correspondente: \n",
        "        1 - Male\n",
        "        2 - Female '''))\n",
        "        \n",
        "        if gender in range(1,3):\n",
        "          pass\n",
        "        else:\n",
        "          print('Carácter inválido. Inserte un valor entre 1 y 2\\n')\n",
        "          gender = ''\n",
        "\n",
        "      except:\n",
        "        print('Carácter inválido. Inserte un valor numérico\\n')\n",
        "        continue\n",
        "\n",
        "  return gender"
      ],
      "metadata": {
        "id": "bdLZEIkL7f1B"
      },
      "execution_count": 105,
      "outputs": []
    },
    {
      "cell_type": "code",
      "source": [
        "def homeowner(): \n",
        "  homeowner = ' '\n",
        "  while type(homeowner) != int:\n",
        "      try:\n",
        "        homeowner = int(input(\n",
        "        '''¿El cliente es propietario de su casa? Inserte el número con la opción correspondente: \n",
        "        0 - No\n",
        "        1 - Sí '''))\n",
        "        \n",
        "        if homeowner in range(0,2):\n",
        "          pass\n",
        "        else:\n",
        "          print('Carácter inválido. Inserte un valor entre 0 y 1\\n')\n",
        "          homeowner = ''\n",
        "\n",
        "      except:\n",
        "        print('Carácter inválido. Inserte un valor numérico\\n')\n",
        "        continue\n",
        "\n",
        "  return homeowner"
      ],
      "metadata": {
        "id": "1mG7eGMx8d5J"
      },
      "execution_count": 106,
      "outputs": []
    },
    {
      "cell_type": "code",
      "source": [
        "def income(): \n",
        "  income = ' '\n",
        "  while type(income) != int:\n",
        "      try:\n",
        "        income = int(input(\n",
        "        '''¿Cuál es el rango de ingreso anual del cliente? Inserte el número con la opción correspondente: \n",
        "        1 - 0-25000 \n",
        "        2 - 25001-50000 \n",
        "        3 - 50001-75000\n",
        "        4 - 75001-100000 \n",
        "        5 - greater than 100000 '''))\n",
        "\n",
        "\n",
        "        if income in range(1,6):\n",
        "          pass\n",
        "        else:\n",
        "          print('Carácter inválido. Inserte un valor entre 1 y 5\\n')\n",
        "          income = ''\n",
        "\n",
        "      except:\n",
        "        print('Carácter inválido. Inserte un valor numérico\\n')\n",
        "        continue\n",
        "\n",
        "  return income"
      ],
      "metadata": {
        "id": "b_zj9zJy9Blk"
      },
      "execution_count": 107,
      "outputs": []
    },
    {
      "cell_type": "code",
      "source": [
        "def clasificacion():\n",
        "  data = {'Group': countrygroup,      \n",
        "          'Age': age, \n",
        "          'MaritalStatus': marital,\n",
        "          'YearlyIncome': income,\n",
        "          'Gender': gender,\n",
        "          'TotalChildren': hijos, \n",
        "          'Education': education, \n",
        "          'Occupation': occupation,\n",
        "          'HomeOwnerFlag': homeowner,\n",
        "          'NumberCarsOwned':carros}\n",
        "  calc = pd.DataFrame(data,  index=[0])\n",
        "  classify = modelo_rfc.predict(calc)\n",
        "\n",
        "  for i in classify:\n",
        "    if int(i) == 1:\n",
        "      print(\"\\n Es probable que ese cliente comprará una bicicleta\")\n",
        "    elif int(i) == 0:\n",
        "      print(\"\\n Es probable que ese cliente NO comprará una bicicleta\")"
      ],
      "metadata": {
        "id": "bFwcZJNgKQyR"
      },
      "execution_count": 108,
      "outputs": []
    },
    {
      "cell_type": "code",
      "source": [
        "import time\n",
        "\n",
        "#### MENU #####\n",
        "inic()\n",
        "time.sleep(5)\n",
        "age = age()\n",
        "carros = carros()\n",
        "hijos = hijos()\n",
        "education = education()\n",
        "countrygroup = countrygroup()\n",
        "marital = marital()\n",
        "income = income()\n",
        "occupation = occupation()\n",
        "gender = gender()\n",
        "homeowner = homeowner()\n",
        "clasificacion()"
      ],
      "metadata": {
        "id": "IIjI2Kvwhe3H",
        "colab": {
          "base_uri": "https://localhost:8080/"
        },
        "outputId": "64150280-6517-4a73-a3ba-011c219ca37d"
      },
      "execution_count": 109,
      "outputs": [
        {
          "output_type": "stream",
          "name": "stdout",
          "text": [
            "                                CALCULADORA DE PROBABILIDAD DE VENTA\n",
            "          \n",
            "          Esa es la calculadora de probailidad de ventas de bicicleta de AdventureWorks. \n",
            "          Contesta las preguntas con los datos del cliente y descubra si ella/él comprará una bicicleta\n",
            "¿Cuál es la edad del cliente? 26\n",
            "¿Cuántos carros tiene el cliente? 1\n",
            "¿Cuántos niños tiene el cliente en la casa? 0\n",
            "¿Cuál es el nivel de educación del cliente? Inserte el número con la opción correspondente: \n",
            "        1 - Bachelors\n",
            "        2 - Partial College\n",
            "        3 - Graduate Degree\n",
            "        4 - Partial High School 3\n",
            "¿Cuál es la región del cliente? Inserte el número con la opción correspondente: \n",
            "        1 - North America\n",
            "        2 - Europe\n",
            "        3 - Pacific2\n",
            "¿Cuál es el estado civil del cliente? Inserte el número con la opción correspondente: \n",
            "        1 - Married\n",
            "        2 - Single 1\n",
            "¿Cuál es el rango de ingreso anual del cliente? Inserte el número con la opción correspondente: \n",
            "        1 - 0-25000 \n",
            "        2 - 25001-50000 \n",
            "        3 - 50001-75000\n",
            "        4 - 75001-100000 \n",
            "        5 - greater than 100000 4\n",
            "¿Cuál es el la ocupación del cliente? Inserte el número con la opción correspondente: \n",
            "        1 - Clerical\n",
            "        2 - Management\n",
            "        3 - Manual\n",
            "        4 - Professional\n",
            "        5 - Skilled Manual2\n",
            "¿Cuál es el género del cliente? Inserte el número con la opción correspondente: \n",
            "        1 - Male\n",
            "        2 - Female 2\n",
            "¿El cliente es propietario de su casa? Inserte el número con la opción correspondente: \n",
            "        0 - No\n",
            "        1 - Sí 1\n",
            "\n",
            " Es probable que ese cliente NO comprará una bicicleta\n"
          ]
        }
      ]
    }
  ]
}