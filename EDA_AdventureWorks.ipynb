{
  "nbformat": 4,
  "nbformat_minor": 0,
  "metadata": {
    "colab": {
      "provenance": [],
      "authorship_tag": "ABX9TyO9DsDulJz11xC7rXs6Rlcy",
      "include_colab_link": true
    },
    "kernelspec": {
      "name": "python3",
      "display_name": "Python 3"
    },
    "language_info": {
      "name": "python"
    }
  },
  "cells": [
    {
      "cell_type": "markdown",
      "metadata": {
        "id": "view-in-github",
        "colab_type": "text"
      },
      "source": [
        "<a href=\"https://colab.research.google.com/github/anapaccasilva/AdventureWorks/blob/main/EDA_AdventureWorks.ipynb\" target=\"_parent\"><img src=\"https://colab.research.google.com/assets/colab-badge.svg\" alt=\"Open In Colab\"/></a>"
      ]
    },
    {
      "cell_type": "markdown",
      "source": [
        "![Logo_UNIR.png](data:image/png;base64,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)\n",
        "---\n",
        "\n",
        "\n",
        "# **Máster Universitario en Inteligencia de Negocio**\n",
        "# Proyecto Transversal"
      ],
      "metadata": {
        "id": "DYF-x-nOpZ0M"
      }
    },
    {
      "cell_type": "markdown",
      "source": [
        "## Importar dataset"
      ],
      "metadata": {
        "id": "78XfgupczlLF"
      }
    },
    {
      "cell_type": "code",
      "source": [
        "import requests\n",
        "import pandas as pd\n",
        "\n",
        "url = \"https://github.com/anapaccasilva/AdventureWorks/blob/main/DataSet%20SQL%20Analisis%20Masivo%20de%20Datos%20(1).xlsx?raw=true\"\n",
        "\n",
        "response = requests.get(url)\n",
        "\n",
        "dest = 'local-file.xlsx'\n",
        "\n",
        "with open(dest, 'wb') as file:\n",
        "    file.write(response.content)\n",
        "\n",
        "frame = pd.read_excel(dest, engine='openpyxl')"
      ],
      "metadata": {
        "id": "3KIJdQ67NJ09"
      },
      "execution_count": null,
      "outputs": []
    },
    {
      "cell_type": "code",
      "source": [
        "import pandas as pd\n",
        "url = \"https://github.com/anapaccasilva/AdventureWorks/blob/main/DataSet%20SQL%20Analisis%20Masivo%20de%20Datos%20(1).xlsx?raw=true\"\n",
        "\n",
        "customersPurchases = pd.read_excel(url ,sheet_name=\"Var Discreta Adq Bicicleta\")"
      ],
      "metadata": {
        "id": "N1IczlHAkCFs"
      },
      "execution_count": 2,
      "outputs": []
    },
    {
      "cell_type": "markdown",
      "source": [
        "# **EDA - Análisis de Datos Exploratoria**"
      ],
      "metadata": {
        "id": "xnThPFq82LGC"
      }
    },
    {
      "cell_type": "markdown",
      "source": [
        "## 1) Panorama general"
      ],
      "metadata": {
        "id": "2e8yEXCB3OW0"
      }
    },
    {
      "cell_type": "code",
      "source": [
        "customersPurchases.shape"
      ],
      "metadata": {
        "colab": {
          "base_uri": "https://localhost:8080/"
        },
        "id": "YPYPcca33T6k",
        "outputId": "e3b6cc5c-0ae3-4b80-d10f-f5a1da6a3fde"
      },
      "execution_count": null,
      "outputs": [
        {
          "output_type": "execute_result",
          "data": {
            "text/plain": [
              "(18484, 19)"
            ]
          },
          "metadata": {},
          "execution_count": 3
        }
      ]
    },
    {
      "cell_type": "code",
      "source": [
        "customersPurchases.describe()"
      ],
      "metadata": {
        "colab": {
          "base_uri": "https://localhost:8080/",
          "height": 300
        },
        "id": "nYfnFS1-3eUG",
        "outputId": "094b038d-4074-4e09-eefc-947b9304fd47"
      },
      "execution_count": null,
      "outputs": [
        {
          "output_type": "execute_result",
          "data": {
            "text/plain": [
              "        TotalAmount  BikePurchase    CustomerID      PersonID           Age  \\\n",
              "count  18484.000000  18484.000000  18484.000000  18484.000000  18484.000000   \n",
              "mean    1588.329216      0.494049  20241.500000  11532.731660     58.420039   \n",
              "std     2124.231717      0.499978   5336.015523   5340.939611     11.249188   \n",
              "min        2.290000      0.000000  11000.000000   1699.000000     40.000000   \n",
              "25%       49.970000      0.000000  15620.750000   6914.750000     50.000000   \n",
              "50%      270.265000      0.000000  20241.500000  11535.500000     57.000000   \n",
              "75%     2511.275000      1.000000  24862.250000  16156.250000     66.000000   \n",
              "max    13295.380000      1.000000  29483.000000  20777.000000    110.000000   \n",
              "\n",
              "       TotalChildren  HomeOwnerFlag  NumberCarsOwned  \n",
              "count   18484.000000   18484.000000     18484.000000  \n",
              "mean        1.844352       0.676369         1.502705  \n",
              "std         1.612408       0.467874         1.138394  \n",
              "min         0.000000       0.000000         0.000000  \n",
              "25%         0.000000       0.000000         1.000000  \n",
              "50%         2.000000       1.000000         2.000000  \n",
              "75%         3.000000       1.000000         2.000000  \n",
              "max         5.000000       1.000000         4.000000  "
            ],
            "text/html": [
              "\n",
              "  <div id=\"df-0c2743cc-1849-4600-90a5-1d2f357ec58a\">\n",
              "    <div class=\"colab-df-container\">\n",
              "      <div>\n",
              "<style scoped>\n",
              "    .dataframe tbody tr th:only-of-type {\n",
              "        vertical-align: middle;\n",
              "    }\n",
              "\n",
              "    .dataframe tbody tr th {\n",
              "        vertical-align: top;\n",
              "    }\n",
              "\n",
              "    .dataframe thead th {\n",
              "        text-align: right;\n",
              "    }\n",
              "</style>\n",
              "<table border=\"1\" class=\"dataframe\">\n",
              "  <thead>\n",
              "    <tr style=\"text-align: right;\">\n",
              "      <th></th>\n",
              "      <th>TotalAmount</th>\n",
              "      <th>BikePurchase</th>\n",
              "      <th>CustomerID</th>\n",
              "      <th>PersonID</th>\n",
              "      <th>Age</th>\n",
              "      <th>TotalChildren</th>\n",
              "      <th>HomeOwnerFlag</th>\n",
              "      <th>NumberCarsOwned</th>\n",
              "    </tr>\n",
              "  </thead>\n",
              "  <tbody>\n",
              "    <tr>\n",
              "      <th>count</th>\n",
              "      <td>18484.000000</td>\n",
              "      <td>18484.000000</td>\n",
              "      <td>18484.000000</td>\n",
              "      <td>18484.000000</td>\n",
              "      <td>18484.000000</td>\n",
              "      <td>18484.000000</td>\n",
              "      <td>18484.000000</td>\n",
              "      <td>18484.000000</td>\n",
              "    </tr>\n",
              "    <tr>\n",
              "      <th>mean</th>\n",
              "      <td>1588.329216</td>\n",
              "      <td>0.494049</td>\n",
              "      <td>20241.500000</td>\n",
              "      <td>11532.731660</td>\n",
              "      <td>58.420039</td>\n",
              "      <td>1.844352</td>\n",
              "      <td>0.676369</td>\n",
              "      <td>1.502705</td>\n",
              "    </tr>\n",
              "    <tr>\n",
              "      <th>std</th>\n",
              "      <td>2124.231717</td>\n",
              "      <td>0.499978</td>\n",
              "      <td>5336.015523</td>\n",
              "      <td>5340.939611</td>\n",
              "      <td>11.249188</td>\n",
              "      <td>1.612408</td>\n",
              "      <td>0.467874</td>\n",
              "      <td>1.138394</td>\n",
              "    </tr>\n",
              "    <tr>\n",
              "      <th>min</th>\n",
              "      <td>2.290000</td>\n",
              "      <td>0.000000</td>\n",
              "      <td>11000.000000</td>\n",
              "      <td>1699.000000</td>\n",
              "      <td>40.000000</td>\n",
              "      <td>0.000000</td>\n",
              "      <td>0.000000</td>\n",
              "      <td>0.000000</td>\n",
              "    </tr>\n",
              "    <tr>\n",
              "      <th>25%</th>\n",
              "      <td>49.970000</td>\n",
              "      <td>0.000000</td>\n",
              "      <td>15620.750000</td>\n",
              "      <td>6914.750000</td>\n",
              "      <td>50.000000</td>\n",
              "      <td>0.000000</td>\n",
              "      <td>0.000000</td>\n",
              "      <td>1.000000</td>\n",
              "    </tr>\n",
              "    <tr>\n",
              "      <th>50%</th>\n",
              "      <td>270.265000</td>\n",
              "      <td>0.000000</td>\n",
              "      <td>20241.500000</td>\n",
              "      <td>11535.500000</td>\n",
              "      <td>57.000000</td>\n",
              "      <td>2.000000</td>\n",
              "      <td>1.000000</td>\n",
              "      <td>2.000000</td>\n",
              "    </tr>\n",
              "    <tr>\n",
              "      <th>75%</th>\n",
              "      <td>2511.275000</td>\n",
              "      <td>1.000000</td>\n",
              "      <td>24862.250000</td>\n",
              "      <td>16156.250000</td>\n",
              "      <td>66.000000</td>\n",
              "      <td>3.000000</td>\n",
              "      <td>1.000000</td>\n",
              "      <td>2.000000</td>\n",
              "    </tr>\n",
              "    <tr>\n",
              "      <th>max</th>\n",
              "      <td>13295.380000</td>\n",
              "      <td>1.000000</td>\n",
              "      <td>29483.000000</td>\n",
              "      <td>20777.000000</td>\n",
              "      <td>110.000000</td>\n",
              "      <td>5.000000</td>\n",
              "      <td>1.000000</td>\n",
              "      <td>4.000000</td>\n",
              "    </tr>\n",
              "  </tbody>\n",
              "</table>\n",
              "</div>\n",
              "      <button class=\"colab-df-convert\" onclick=\"convertToInteractive('df-0c2743cc-1849-4600-90a5-1d2f357ec58a')\"\n",
              "              title=\"Convert this dataframe to an interactive table.\"\n",
              "              style=\"display:none;\">\n",
              "        \n",
              "  <svg xmlns=\"http://www.w3.org/2000/svg\" height=\"24px\"viewBox=\"0 0 24 24\"\n",
              "       width=\"24px\">\n",
              "    <path d=\"M0 0h24v24H0V0z\" fill=\"none\"/>\n",
              "    <path d=\"M18.56 5.44l.94 2.06.94-2.06 2.06-.94-2.06-.94-.94-2.06-.94 2.06-2.06.94zm-11 1L8.5 8.5l.94-2.06 2.06-.94-2.06-.94L8.5 2.5l-.94 2.06-2.06.94zm10 10l.94 2.06.94-2.06 2.06-.94-2.06-.94-.94-2.06-.94 2.06-2.06.94z\"/><path d=\"M17.41 7.96l-1.37-1.37c-.4-.4-.92-.59-1.43-.59-.52 0-1.04.2-1.43.59L10.3 9.45l-7.72 7.72c-.78.78-.78 2.05 0 2.83L4 21.41c.39.39.9.59 1.41.59.51 0 1.02-.2 1.41-.59l7.78-7.78 2.81-2.81c.8-.78.8-2.07 0-2.86zM5.41 20L4 18.59l7.72-7.72 1.47 1.35L5.41 20z\"/>\n",
              "  </svg>\n",
              "      </button>\n",
              "      \n",
              "  <style>\n",
              "    .colab-df-container {\n",
              "      display:flex;\n",
              "      flex-wrap:wrap;\n",
              "      gap: 12px;\n",
              "    }\n",
              "\n",
              "    .colab-df-convert {\n",
              "      background-color: #E8F0FE;\n",
              "      border: none;\n",
              "      border-radius: 50%;\n",
              "      cursor: pointer;\n",
              "      display: none;\n",
              "      fill: #1967D2;\n",
              "      height: 32px;\n",
              "      padding: 0 0 0 0;\n",
              "      width: 32px;\n",
              "    }\n",
              "\n",
              "    .colab-df-convert:hover {\n",
              "      background-color: #E2EBFA;\n",
              "      box-shadow: 0px 1px 2px rgba(60, 64, 67, 0.3), 0px 1px 3px 1px rgba(60, 64, 67, 0.15);\n",
              "      fill: #174EA6;\n",
              "    }\n",
              "\n",
              "    [theme=dark] .colab-df-convert {\n",
              "      background-color: #3B4455;\n",
              "      fill: #D2E3FC;\n",
              "    }\n",
              "\n",
              "    [theme=dark] .colab-df-convert:hover {\n",
              "      background-color: #434B5C;\n",
              "      box-shadow: 0px 1px 3px 1px rgba(0, 0, 0, 0.15);\n",
              "      filter: drop-shadow(0px 1px 2px rgba(0, 0, 0, 0.3));\n",
              "      fill: #FFFFFF;\n",
              "    }\n",
              "  </style>\n",
              "\n",
              "      <script>\n",
              "        const buttonEl =\n",
              "          document.querySelector('#df-0c2743cc-1849-4600-90a5-1d2f357ec58a button.colab-df-convert');\n",
              "        buttonEl.style.display =\n",
              "          google.colab.kernel.accessAllowed ? 'block' : 'none';\n",
              "\n",
              "        async function convertToInteractive(key) {\n",
              "          const element = document.querySelector('#df-0c2743cc-1849-4600-90a5-1d2f357ec58a');\n",
              "          const dataTable =\n",
              "            await google.colab.kernel.invokeFunction('convertToInteractive',\n",
              "                                                     [key], {});\n",
              "          if (!dataTable) return;\n",
              "\n",
              "          const docLinkHtml = 'Like what you see? Visit the ' +\n",
              "            '<a target=\"_blank\" href=https://colab.research.google.com/notebooks/data_table.ipynb>data table notebook</a>'\n",
              "            + ' to learn more about interactive tables.';\n",
              "          element.innerHTML = '';\n",
              "          dataTable['output_type'] = 'display_data';\n",
              "          await google.colab.output.renderOutput(dataTable, element);\n",
              "          const docLink = document.createElement('div');\n",
              "          docLink.innerHTML = docLinkHtml;\n",
              "          element.appendChild(docLink);\n",
              "        }\n",
              "      </script>\n",
              "    </div>\n",
              "  </div>\n",
              "  "
            ]
          },
          "metadata": {},
          "execution_count": 4
        }
      ]
    },
    {
      "cell_type": "code",
      "source": [
        "customersPurchases.info()"
      ],
      "metadata": {
        "colab": {
          "base_uri": "https://localhost:8080/"
        },
        "id": "kD-HSE6u3xa6",
        "outputId": "559085a7-e4de-4e0d-cc10-d74110f229d7"
      },
      "execution_count": null,
      "outputs": [
        {
          "output_type": "stream",
          "name": "stdout",
          "text": [
            "<class 'pandas.core.frame.DataFrame'>\n",
            "RangeIndex: 18484 entries, 0 to 18483\n",
            "Data columns (total 19 columns):\n",
            " #   Column             Non-Null Count  Dtype         \n",
            "---  ------             --------------  -----         \n",
            " 0   TotalAmount        18484 non-null  float64       \n",
            " 1   BikePurchase       18484 non-null  int64         \n",
            " 2   CustomerID         18484 non-null  int64         \n",
            " 3   Country            18484 non-null  object        \n",
            " 4   CountryRegionCode  18484 non-null  object        \n",
            " 5   Group              18484 non-null  object        \n",
            " 6   PersonID           18484 non-null  int64         \n",
            " 7   PersonType         18484 non-null  object        \n",
            " 8   DateFirstPurchase  18484 non-null  datetime64[ns]\n",
            " 9   BirthDate          18484 non-null  datetime64[ns]\n",
            " 10  Age                18484 non-null  int64         \n",
            " 11  MaritalStatus      18484 non-null  object        \n",
            " 12  YearlyIncome       18484 non-null  object        \n",
            " 13  Gender             18484 non-null  object        \n",
            " 14  TotalChildren      18484 non-null  int64         \n",
            " 15  Education          18484 non-null  object        \n",
            " 16  Occupation         18484 non-null  object        \n",
            " 17  HomeOwnerFlag      18484 non-null  int64         \n",
            " 18  NumberCarsOwned    18484 non-null  int64         \n",
            "dtypes: datetime64[ns](2), float64(1), int64(7), object(9)\n",
            "memory usage: 2.7+ MB\n"
          ]
        }
      ]
    },
    {
      "cell_type": "code",
      "source": [
        "(customersPurchases.isnull() | \n",
        " customersPurchases.empty    | \n",
        " customersPurchases.isna()\n",
        " ).sum()"
      ],
      "metadata": {
        "colab": {
          "base_uri": "https://localhost:8080/"
        },
        "id": "vYW3eC1c3E59",
        "outputId": "25a917c5-36f6-44f0-eebb-a5504caeb73d"
      },
      "execution_count": null,
      "outputs": [
        {
          "output_type": "execute_result",
          "data": {
            "text/plain": [
              "TotalAmount          0\n",
              "BikePurchase         0\n",
              "CustomerID           0\n",
              "Country              0\n",
              "CountryRegionCode    0\n",
              "Group                0\n",
              "PersonID             0\n",
              "PersonType           0\n",
              "DateFirstPurchase    0\n",
              "BirthDate            0\n",
              "Age                  0\n",
              "MaritalStatus        0\n",
              "YearlyIncome         0\n",
              "Gender               0\n",
              "TotalChildren        0\n",
              "Education            0\n",
              "Occupation           0\n",
              "HomeOwnerFlag        0\n",
              "NumberCarsOwned      0\n",
              "dtype: int64"
            ]
          },
          "metadata": {},
          "execution_count": 6
        }
      ]
    },
    {
      "cell_type": "markdown",
      "source": [
        "\n",
        "<font face=\"Biome\" size=5 color='#0093C0' > Análisis <font>\n",
        "\n",
        "---\n",
        "\n",
        "\n",
        "\n",
        "<font color='4A4A4A'> *El dataset está conformado por 18484 líneas 19 columnas, de tipo numérico (int y float), textual (object) y fechas. Ninguna columna tiene valores vacíos o nulos.*"
      ],
      "metadata": {
        "id": "VpMo31kz-lSm"
      }
    }
  ]
}