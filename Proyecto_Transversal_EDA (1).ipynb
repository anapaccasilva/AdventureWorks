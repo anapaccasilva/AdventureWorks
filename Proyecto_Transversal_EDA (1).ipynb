{
  "nbformat": 4,
  "nbformat_minor": 0,
  "metadata": {
    "colab": {
      "provenance": []
    },
    "kernelspec": {
      "name": "python3",
      "display_name": "Python 3"
    },
    "language_info": {
      "name": "python"
    }
  },
  "cells": [
    {
      "cell_type": "markdown",
      "source": [
        "## Importar dataset"
      ],
      "metadata": {
        "id": "78XfgupczlLF"
      }
    },
    {
      "cell_type": "code",
      "source": [
        "import requests\n",
        "import pandas as pd\n",
        "\n",
        "url = \"https://github.com/anapaccasilva/AdventureWorks/blob/main/DataSet%20SQL%20Analisis%20Masivo%20de%20Datos%20(1).xlsx?raw=true\"\n",
        "\n",
        "response = requests.get(url)\n",
        "\n",
        "dest = 'local-file.xlsx'\n",
        "\n",
        "with open(dest, 'wb') as file:\n",
        "    file.write(response.content)\n",
        "\n",
        "frame = pd.read_excel(dest, engine='openpyxl')\n",
        "\n",
        "frame.head()"
      ],
      "metadata": {
        "id": "3KIJdQ67NJ09"
      },
      "execution_count": null,
      "outputs": []
    },
    {
      "cell_type": "code",
      "source": [
        "from google.colab import drive\n",
        "drive.mount('/gdrive')\n",
        "PATH = '/gdrive/MyDrive/'"
      ],
      "metadata": {
        "id": "wIWuvmHw1Y4l"
      },
      "execution_count": null,
      "outputs": []
    },
    {
      "cell_type": "code",
      "source": [
        "import pandas as pd\n",
        "url = \"https://github.com/anapaccasilva/AdventureWorks/blob/main/DataSet%20SQL%20Analisis%20Masivo%20de%20Datos%20(1).xlsx?raw=true\"\n",
        "\n",
        "customersPurchases = pd.read_excel(url ,sheet_name=\"Var Discreta Adq Bicicleta\")"
      ],
      "metadata": {
        "id": "StQ_7uvDOLIc"
      },
      "execution_count": null,
      "outputs": []
    },
    {
      "cell_type": "markdown",
      "source": [
        "# **EDA - Análisis de Datos Exploratoria**"
      ],
      "metadata": {
        "id": "xnThPFq82LGC"
      }
    },
    {
      "cell_type": "markdown",
      "source": [
        "## 1) Panorama general"
      ],
      "metadata": {
        "id": "2e8yEXCB3OW0"
      }
    },
    {
      "cell_type": "code",
      "source": [
        "customersPurchases.shape"
      ],
      "metadata": {
        "id": "YPYPcca33T6k"
      },
      "execution_count": null,
      "outputs": []
    },
    {
      "cell_type": "code",
      "source": [
        "customersPurchases.describe()"
      ],
      "metadata": {
        "id": "nYfnFS1-3eUG"
      },
      "execution_count": null,
      "outputs": []
    },
    {
      "cell_type": "code",
      "source": [
        "customersPurchases.info()"
      ],
      "metadata": {
        "id": "kD-HSE6u3xa6"
      },
      "execution_count": null,
      "outputs": []
    },
    {
      "cell_type": "code",
      "source": [
        "(customersPurchases.isnull() | \n",
        " customersPurchases.empty    | \n",
        " customersPurchases.isna()\n",
        " ).sum()"
      ],
      "metadata": {
        "id": "vYW3eC1c3E59"
      },
      "execution_count": null,
      "outputs": []
    },
    {
      "cell_type": "markdown",
      "source": [
        "\n",
        "<font face=\"Biome\" size=5 color='#0093C0' > Análisis <font>\n",
        "\n",
        "---\n",
        "\n",
        "\n",
        "\n",
        "<font color='4A4A4A'> *El dataset está conformado por 18484 líneas 19 columnas, de tipo numérico (int y float), textual (object) y fechas. Ninguna columna tiene valores vacíos o nulos.*"
      ],
      "metadata": {
        "id": "VpMo31kz-lSm"
      }
    },
    {
      "cell_type": "markdown",
      "source": [
        "## 2) Preparación"
      ],
      "metadata": {
        "id": "NNtTidPrFI9K"
      }
    },
    {
      "cell_type": "markdown",
      "source": [
        "columnas inútiles:\n",
        "- CustomerID\n",
        "- PersonType\n",
        "- PersonID\n",
        "\n",
        "columnas redudantes\n",
        "- Country\n",
        "- BirthDate\n"
      ],
      "metadata": {
        "id": "zJXDi5PjF6mF"
      }
    },
    {
      "cell_type": "code",
      "source": [
        "customersPurchases.drop(['CustomerID', 'PersonType', 'PersonID', 'Country', 'BirthDate', 'DateFirstPurchase'], axis=1, inplace=True)  "
      ],
      "metadata": {
        "id": "gIibF4HsFPM1"
      },
      "execution_count": null,
      "outputs": []
    },
    {
      "cell_type": "markdown",
      "source": [
        "averiguar si hay duplicidad de líneas"
      ],
      "metadata": {
        "id": "xlx5Q-z3HnTe"
      }
    },
    {
      "cell_type": "code",
      "source": [
        "customersPurchases.duplicated().sum()"
      ],
      "metadata": {
        "id": "pHsAiRCVGCnS"
      },
      "execution_count": null,
      "outputs": []
    },
    {
      "cell_type": "markdown",
      "source": [
        "eliminar líneas duplicadas"
      ],
      "metadata": {
        "id": "e4uErEPFH1gd"
      }
    },
    {
      "cell_type": "code",
      "source": [
        "customersPurchases.drop_duplicates(inplace=True)"
      ],
      "metadata": {
        "id": "vJXRtWhMICAO"
      },
      "execution_count": null,
      "outputs": []
    },
    {
      "cell_type": "markdown",
      "source": [
        "\n",
        "<font face=\"Biome\" size=5 color='#0093C0' > Análisis <font>\n",
        "\n",
        "---\n",
        "\n",
        "\n",
        "\n",
        "<font color='4A4A4A'> *Algunas variables del dataset no tienen utilidad para el análisis de datos y por eso deben ser eliminadas. En ese dataset, las variables “**CustomerID**”, “**PersonType**” y “**PersonID**” son identificadores de cada cliente, pero no ofrecen ninguna información calificadora de ellos. Por su vez, algunas variables del dataset aunque aporten información relevante se tornan redundantes al repetir la misma información dada por otras variables, como es el caso de “**Country**” (semejante a la columna “CountryRegionCode”) y “**BirthDate**” (similar a la columna “Age”). También fueron identificadas 507 líneas duplicadas que por eso fueron eliminadas.*"
      ],
      "metadata": {
        "id": "Mr2dEN4tWJX8"
      }
    },
    {
      "cell_type": "markdown",
      "source": [
        "## 3) Comprensión de las variables"
      ],
      "metadata": {
        "id": "cpR-MIBGInAH"
      }
    },
    {
      "cell_type": "markdown",
      "source": [
        "```\n",
        "Variables Categoricas\n",
        "```"
      ],
      "metadata": {
        "id": "TstdTzK-eodp"
      }
    },
    {
      "cell_type": "markdown",
      "source": [
        "<style>\n",
        "td {\n",
        "  font-size: 50px\n",
        "}\n",
        "</style>\n",
        "\n",
        "- CountryRegionCode\n",
        "- Group\n",
        "- MaritalStatus\n",
        "- YearlyIncome\n",
        "- Gender\n",
        "- Education\n",
        "- Occupation\n"
      ],
      "metadata": {
        "id": "XzpFmvxtI1sp"
      }
    },
    {
      "cell_type": "markdown",
      "source": [
        "**Barplot**"
      ],
      "metadata": {
        "id": "2EUA8foHXSd0"
      }
    },
    {
      "cell_type": "code",
      "source": [
        "import matplotlib.pyplot as plt\n",
        "import numpy as np\n",
        "import random\n",
        "\n",
        "# función para creación del barplot\n",
        "def barplot_count(dataframe, variable, titulo):\n",
        "  df = dataframe.groupby(variable)[variable].count().reset_index(name='count')\n",
        "  x = df[variable]\n",
        "  y = df['count']\n",
        "  plt.figure(figsize=(10,8))\n",
        "\n",
        "  #construir barplot y definir colores randomicos\n",
        "  colors = f'{\"%06x\" % random.randint(0, 0xFFFFFF)}' #color aleatoria\n",
        "  bars = plt.bar(x,y, color = '#' + colors)\n",
        "\n",
        "  #agrega título del plot, titulo de los ejes y guarda la figura del barplot\n",
        "  plt.title(titulo)\n",
        "  plt.xlabel(variable)\n",
        "  plt.ylabel('cantidad')\n",
        "  plt.savefig(titulo + '.png', bbox_inches=\"tight\")\n",
        "\n",
        "  #función para agregar la etiqueta de los datos sobre cada columna\n",
        "  def addlabels(x, y):\n",
        "    for i in range(len(x)):\n",
        "      plt.text(i,y[i],y[i],  horizontalalignment=\"center\")\n",
        "\n",
        "  addlabels(x, y)\n",
        "  return plt.show()"
      ],
      "metadata": {
        "id": "qY0ucmdoJ0Rh"
      },
      "execution_count": null,
      "outputs": []
    },
    {
      "cell_type": "markdown",
      "source": [
        "\n",
        "<font face=\"Biome\" size=5 color='#0093C0' > Análisis <font>\n",
        "\n",
        "---\n",
        "\n",
        "\n",
        "\n",
        "<font color='4A4A4A'> *Para comprender las variables categóricas son presentados a seguir algunos gráficos de barras. La función utilizada incluye la atribución de colores aleatorios, para tornar las visualizaciones de datos más agradable y menos monótona*"
      ],
      "metadata": {
        "id": "NEUPQQCxeY5c"
      }
    },
    {
      "cell_type": "markdown",
      "source": [
        "▶ CountryRegionCode\n",
        "\n"
      ],
      "metadata": {
        "id": "jFLR8dgdJUzI"
      }
    },
    {
      "cell_type": "code",
      "source": [
        "barplot_count(customersPurchases, 'CountryRegionCode', 'Cantidad de Ventas por País')"
      ],
      "metadata": {
        "id": "vMFXWdGOQuZf"
      },
      "execution_count": null,
      "outputs": []
    },
    {
      "cell_type": "markdown",
      "source": [
        "▶ Group\n"
      ],
      "metadata": {
        "id": "wTULUNAMaq3b"
      }
    },
    {
      "cell_type": "markdown",
      "source": [
        "▶ Group Biv\n"
      ],
      "metadata": {
        "id": "HvouPMNmJ_an"
      }
    },
    {
      "cell_type": "code",
      "source": [
        "barplot_count(customersPurchases, 'Group', 'Cantidad de Ventas por Grupo de País')"
      ],
      "metadata": {
        "id": "twmzR07XafgH"
      },
      "execution_count": null,
      "outputs": []
    },
    {
      "cell_type": "code",
      "source": [
        "cross_tab = pd.crosstab(index=customersPurchases['Group'],\n",
        "                        columns=customersPurchases['BikePurchase'])\n",
        "cross_tab"
      ],
      "metadata": {
        "id": "tyvoaoD36aw7"
      },
      "execution_count": null,
      "outputs": []
    },
    {
      "cell_type": "code",
      "source": [
        "cross_tab_prop = pd.DataFrame(customersPurchases.groupby('Group')['Gender'].value_counts(normalize=True).unstack('Gender'))\n",
        "cross_tab_prop"
      ],
      "metadata": {
        "id": "pBW4v5p6_mpy"
      },
      "execution_count": null,
      "outputs": []
    },
    {
      "cell_type": "code",
      "source": [
        "cross_tab_prop.plot(kind='bar', \n",
        "                    stacked=True, \n",
        "                    colormap='tab10', \n",
        "                    figsize=(10, 6))\n",
        "\n",
        "plt.legend(loc=\"lower left\", ncol=2)\n",
        "plt.xlabel(\"Group\")\n",
        "plt.ylabel(\"Proportion\")\n",
        "\n",
        "\n",
        "for n, x in enumerate([*cross_tab.index.values]):\n",
        "    for (proportion, y_loc) in zip(cross_tab_prop.loc[x],\n",
        "                                   cross_tab_prop.loc[x].cumsum()):\n",
        "                \n",
        "        plt.text(x=n - 0.10,\n",
        "                 y=y_loc,\n",
        "                 s=f'{np.round(proportion * 100, 1)}%', \n",
        "                 color=\"black\",\n",
        "                 fontsize=12,\n",
        "                 fontweight=\"bold\")\n",
        "\n",
        "plt.show()"
      ],
      "metadata": {
        "id": "Do2n4aFOH2GH"
      },
      "execution_count": null,
      "outputs": []
    },
    {
      "cell_type": "markdown",
      "source": [
        "▶ Age Biv"
      ],
      "metadata": {
        "id": "fSAifsq-Ktls"
      }
    },
    {
      "cell_type": "code",
      "source": [
        "b_plot = customersPurchases.boxplot(column = 'Age')\n",
        "b_plot.plot()\n",
        "plt.show() "
      ],
      "metadata": {
        "id": "nQNqO5mML9IM"
      },
      "execution_count": null,
      "outputs": []
    },
    {
      "cell_type": "code",
      "source": [
        "import seaborn as sns\n",
        "def boxplot(dataframe, X, titulo):\n",
        "  #selecciona un color aleatoriamente entre la lista de colores acceptables para la funcción catplot\n",
        "  paleta = ['Accent', 'Accent_r', 'Blues', 'Blues_r', 'BrBG', 'BrBG_r', 'BuGn', 'BuGn_r', 'BuPu', 'BuPu_r', 'CMRmap', 'CMRmap_r', 'Dark2', 'Dark2_r', 'GnBu', 'GnBu_r', 'Greens', 'Greens_r', 'Greys', 'Greys_r', 'OrRd', 'OrRd_r', 'Oranges', 'Oranges_r', 'PRGn', 'PRGn_r', 'Paired', 'Paired_r', 'Pastel1', 'Pastel1_r', 'Pastel2', 'Pastel2_r', 'PiYG', 'PiYG_r', 'PuBu', 'PuBuGn', 'PuBuGn_r', 'PuBu_r', 'PuOr', 'PuOr_r', 'PuRd', 'PuRd_r', 'Purples', 'Purples_r', 'RdBu', 'RdBu_r', 'RdGy', 'RdGy_r', 'RdPu', 'RdPu_r', 'RdYlBu', 'RdYlBu_r', 'RdYlGn', 'RdYlGn_r', 'Reds', 'Reds_r', 'Set1', 'Set1_r', 'Set2', 'Set2_r', 'Set3', 'Set3_r', 'Spectral', 'Spectral_r', 'Wistia', 'Wistia_r', 'YlGn', 'YlGnBu', 'YlGnBu_r', 'YlGn_r', 'YlOrBr', 'YlOrBr_r', 'YlOrRd', 'YlOrRd_r', 'afmhot', 'afmhot_r', 'autumn', 'autumn_r', 'binary', 'binary_r', 'bone', 'bone_r', 'brg', 'brg_r', 'bwr', 'bwr_r', 'cividis', 'cividis_r', 'cool', 'cool_r', 'coolwarm', 'coolwarm_r', 'copper', 'copper_r', 'crest', 'crest_r', 'cubehelix', 'cubehelix_r', 'flag', 'flag_r', 'flare', 'flare_r', 'gist_earth', 'gist_earth_r', 'gist_gray', 'gist_gray_r', 'gist_heat', 'gist_heat_r', 'gist_ncar', 'gist_ncar_r', 'gist_rainbow', 'gist_rainbow_r', 'gist_stern', 'gist_stern_r', 'gist_yarg', 'gist_yarg_r', 'gnuplot', 'gnuplot2', 'gnuplot2_r', 'gnuplot_r', 'gray', 'gray_r', 'hot', 'hot_r', 'hsv', 'hsv_r', 'icefire', 'icefire_r', 'inferno', 'inferno_r', 'jet', 'jet_r']\n",
        "  sns.catplot(x=X, data=dataframe, kind=\"box\", aspect=1.5, palette=paleta[random.randint(0, len(paleta))])\n",
        "  \n",
        "  #agrega título del plot, título de los ejes y guarda la figura\n",
        "  plt.title(titulo)\n",
        "  plt.savefig(titulo + '.png', bbox_inches=\"tight\")\n",
        "  plt.show()"
      ],
      "metadata": {
        "id": "-Kq2peH8K1d1"
      },
      "execution_count": null,
      "outputs": []
    },
    {
      "cell_type": "code",
      "source": [
        "boxplot(customersPurchases, 'Age', 'Age')"
      ],
      "metadata": {
        "id": "9cxFtrmIK8nq"
      },
      "execution_count": null,
      "outputs": []
    },
    {
      "cell_type": "markdown",
      "source": [
        "▶ MaritalStatus"
      ],
      "metadata": {
        "id": "m7vfrtMnbAiL"
      }
    },
    {
      "cell_type": "code",
      "source": [
        "barplot_count(customersPurchases, 'MaritalStatus', 'Cantidad de Ventas por Estado Civil')"
      ],
      "metadata": {
        "id": "iSfB3_aDbvkq"
      },
      "execution_count": null,
      "outputs": []
    },
    {
      "cell_type": "markdown",
      "source": [
        "▶ YearlyIncome"
      ],
      "metadata": {
        "id": "t3tRqiV3b5t0"
      }
    },
    {
      "cell_type": "code",
      "source": [
        "barplot_count(customersPurchases, 'YearlyIncome', 'Cantidad de Ventas por Rango de Ingreso Anual')"
      ],
      "metadata": {
        "id": "GnVtoZLeb8wB"
      },
      "execution_count": null,
      "outputs": []
    },
    {
      "cell_type": "markdown",
      "source": [
        "▶ Gender"
      ],
      "metadata": {
        "id": "cJNzyZjtcRqq"
      }
    },
    {
      "cell_type": "code",
      "source": [
        "barplot_count(customersPurchases, 'Gender', 'Cantidad de Ventas por Genero')"
      ],
      "metadata": {
        "id": "aBNVdDubcY7U"
      },
      "execution_count": null,
      "outputs": []
    },
    {
      "cell_type": "markdown",
      "source": [
        "▶ Education"
      ],
      "metadata": {
        "id": "9bEo-GL4cwRq"
      }
    },
    {
      "cell_type": "code",
      "source": [
        "barplot_count(customersPurchases, 'Education', 'Cantidad de Ventas por Nivel de Educacion')"
      ],
      "metadata": {
        "id": "_BU4uEX_cz57"
      },
      "execution_count": null,
      "outputs": []
    },
    {
      "cell_type": "code",
      "source": [
        "grupoo = pd.DataFrame(customersPurchases['Education'].value_counts())\n",
        "\n",
        "grupoo"
      ],
      "metadata": {
        "id": "7lQwT1DpNa58"
      },
      "execution_count": null,
      "outputs": []
    },
    {
      "cell_type": "code",
      "source": [
        "#to add percentages\n",
        "def my_autopct(pct):\n",
        "    return ('%.2f' % pct) if pct > 5 else ''\n",
        "\n",
        "#to add labels\n",
        "def get_new_labels(sizes, labels):\n",
        "    new_labels = [label for size, label in zip(sizes, labels)]\n",
        "    return new_labels\n",
        "\n",
        "sizes = grupoo['Education']\n",
        "labels = grupoo.index\n",
        "ax = grupoo.plot.pie(y = \"Education\", autopct=my_autopct, labels=get_new_labels(sizes, labels))\n",
        "ax.get_legend().remove()\n",
        "ax.set_ylabel('')\n",
        "plt.title('Education')\n",
        "\n",
        "plt.show()"
      ],
      "metadata": {
        "id": "fN5jo8e-RG-c"
      },
      "execution_count": null,
      "outputs": []
    },
    {
      "cell_type": "code",
      "source": [
        "new_educ = customersPurchases[(customersPurchases['Education'] == \"High School\") & (customersPurchases['TotalChildren'] == 5)]\n",
        "new_educ\n"
      ],
      "metadata": {
        "id": "gB6Hl_oIN3h5"
      },
      "execution_count": null,
      "outputs": []
    },
    {
      "cell_type": "markdown",
      "source": [
        "▶ Occupation"
      ],
      "metadata": {
        "id": "rz9hAg9Bc985"
      }
    },
    {
      "cell_type": "code",
      "source": [
        "barplot_count(customersPurchases, 'Occupation', 'Cantidad de Ventas por Ocupación')"
      ],
      "metadata": {
        "id": "z1xaAmL9dBcn"
      },
      "execution_count": null,
      "outputs": []
    },
    {
      "cell_type": "markdown",
      "source": [
        "\n",
        "<font face=\"Biome\" size=5 color='#0093C0' > Análisis <font>\n",
        "\n",
        "---\n",
        "\n",
        "\n",
        "\n",
        "<font color='4A4A4A'> *Observando los gráficos presentados, es posible identificar que aproximadamente la mitad de los clientes de AdventureWorks se concentra en la **America del Norte** (la mayor parte en los **Estados Unidos**). Un 53% de los clientes son **casados**, 60% de los clientes tienen renta anual **entre 25001 y 75000**, poco más de la mitad de ellos son **hombres**, su nivel de estudios es principalmente **“Bachelors” y “Partial Colleges”** y su ocupación es sobre todo **“Profesional” y “Skilled Manual”**.*"
      ],
      "metadata": {
        "id": "HeLkIRMxhbWm"
      }
    },
    {
      "cell_type": "markdown",
      "source": [
        "```\n",
        "Variables Numericas\n",
        "```"
      ],
      "metadata": {
        "id": "WkQc_FDxey-C"
      }
    },
    {
      "cell_type": "markdown",
      "source": [
        "- TotalAmount\n",
        "- BikePurchase\n",
        "- Age\n",
        "- TotalChildren\n",
        "- HomeOwnerFlag\n",
        "- NumberCarsOwned\n",
        "\n"
      ],
      "metadata": {
        "id": "uAsdKcmOdzsT"
      }
    },
    {
      "cell_type": "markdown",
      "source": [
        "**Histogram function**"
      ],
      "metadata": {
        "id": "Qeflyc8l_xkW"
      }
    },
    {
      "cell_type": "code",
      "source": [
        "# función para creación del histograma\n",
        "\n",
        "def histograma(dataframe, variable, titulo):\n",
        "  plt.figure(figsize=((10,8)))\n",
        "\n",
        "  # por una cuestión de visualización, el histograma fue utilizado para variables que poseen más de 100 valores distinctos, \n",
        "  # mientras que para las variables con hasta 100 valores fue utilizado un barplot simple, como lo utilizado anteriormente.\n",
        "  \n",
        "  if len(dataframe[variable].unique()) > 100:\n",
        "    colors = f'{\"%06x\" % random.randint(0, 0xFFFFFF)}' #color aleatoria\n",
        "    plt.hist(dataframe[variable], edgecolor='white', color = '#' + colors)\n",
        "  else:\n",
        "    df = dataframe.groupby(variable)[variable].count().reset_index(name='count')\n",
        "    x = df[variable]\n",
        "    y = df['count']\n",
        "    colors = f'{\"%06x\" % random.randint(0, 0xFFFFFF)}' #color aleatoria\n",
        "    bars = plt.bar(x,y, color = '#' + colors)\n",
        "\n",
        "  \n",
        "  #agrega título del plot, titulo de los ejes y guarda la figura\n",
        "  plt.title(titulo)\n",
        "  plt.savefig(titulo + '.png', bbox_inches=\"tight\")\n",
        "  plt.show()"
      ],
      "metadata": {
        "id": "lKk5uqTrs2lB"
      },
      "execution_count": null,
      "outputs": []
    },
    {
      "cell_type": "markdown",
      "source": [
        "\n",
        "<font face=\"Biome\" size=5 color='#0093C0' > Análisis <font>\n",
        "\n",
        "---\n",
        "\n",
        "\n",
        "\n",
        "<font color='4A4A4A'> *Para comprender las variables numericas son presentados a seguir algunos histogramas, representando la distribución de los datos y, cuando necesario, análisis de estadistica descriptiva. La función utilizada incluye la atribución de colores aleatorios, para tornar las visualizaciones de datos más agradable y menos monótona.*"
      ],
      "metadata": {
        "id": "xU3OdL43illW"
      }
    },
    {
      "cell_type": "markdown",
      "source": [
        "▶ TotalAmount\n"
      ],
      "metadata": {
        "id": "rYAC00S9sghW"
      }
    },
    {
      "cell_type": "code",
      "source": [
        "customersPurchases.TotalAmount.describe()"
      ],
      "metadata": {
        "id": "7IelmX4SQ9xF"
      },
      "execution_count": null,
      "outputs": []
    },
    {
      "cell_type": "code",
      "source": [
        "histograma(customersPurchases, \"TotalAmount\", \"Gasto Total (Total Amount)\")"
      ],
      "metadata": {
        "id": "ERzjVyRdE7_S"
      },
      "execution_count": null,
      "outputs": []
    },
    {
      "cell_type": "markdown",
      "source": [
        "▶ BikePurchase\n"
      ],
      "metadata": {
        "id": "Jdf0ffmnUNSr"
      }
    },
    {
      "cell_type": "code",
      "source": [
        "customersPurchases.BikePurchase.describe()"
      ],
      "metadata": {
        "id": "0S2iS5KLUSh8"
      },
      "execution_count": null,
      "outputs": []
    },
    {
      "cell_type": "code",
      "source": [
        "customersPurchases.BikePurchase.value_counts()"
      ],
      "metadata": {
        "id": "81peBa8alKxB"
      },
      "execution_count": null,
      "outputs": []
    },
    {
      "cell_type": "code",
      "source": [
        "histograma(customersPurchases, \"BikePurchase\", \"Compra de Bicicleta (Bike Purchase)\")"
      ],
      "metadata": {
        "id": "Fvm5hzRCUZ9u"
      },
      "execution_count": null,
      "outputs": []
    },
    {
      "cell_type": "markdown",
      "source": [
        "▶ Age"
      ],
      "metadata": {
        "id": "yw1vEZszVDza"
      }
    },
    {
      "cell_type": "code",
      "source": [
        "customersPurchases.Age.describe()"
      ],
      "metadata": {
        "id": "dlj2_KTIVKZ2"
      },
      "execution_count": null,
      "outputs": []
    },
    {
      "cell_type": "code",
      "source": [
        "histograma(customersPurchases, \"Age\", \"Edad (en años) de los compradores (Age)\")"
      ],
      "metadata": {
        "id": "Ck5_c6lAVcVL"
      },
      "execution_count": null,
      "outputs": []
    },
    {
      "cell_type": "markdown",
      "source": [
        "▶ TotalChildren"
      ],
      "metadata": {
        "id": "Za-3a-5zWegH"
      }
    },
    {
      "cell_type": "code",
      "source": [
        "customersPurchases.TotalChildren.describe()"
      ],
      "metadata": {
        "id": "-PzlQ_5FWip5"
      },
      "execution_count": null,
      "outputs": []
    },
    {
      "cell_type": "code",
      "source": [
        "customersPurchases.TotalChildren.value_counts()"
      ],
      "metadata": {
        "id": "8WkLg9HelcI3"
      },
      "execution_count": null,
      "outputs": []
    },
    {
      "cell_type": "code",
      "source": [
        "histograma(customersPurchases, \"TotalChildren\", \"Numero total de ninõs (TotalChildren)\")"
      ],
      "metadata": {
        "id": "6Ei6tvwoWvXN"
      },
      "execution_count": null,
      "outputs": []
    },
    {
      "cell_type": "markdown",
      "source": [
        "▶ HomeOwnerFlag"
      ],
      "metadata": {
        "id": "VHiy31gyXIQd"
      }
    },
    {
      "cell_type": "code",
      "source": [
        "customersPurchases.HomeOwnerFlag.describe()"
      ],
      "metadata": {
        "id": "pJ8579OUXNfc"
      },
      "execution_count": null,
      "outputs": []
    },
    {
      "cell_type": "code",
      "source": [
        "customersPurchases.HomeOwnerFlag.value_counts()"
      ],
      "metadata": {
        "id": "bvsWljMqlhNO"
      },
      "execution_count": null,
      "outputs": []
    },
    {
      "cell_type": "code",
      "source": [
        "histograma(customersPurchases, \"HomeOwnerFlag\", \"Propietario de la casa (HomeOwnerFlag)\")"
      ],
      "metadata": {
        "id": "8Utn5SHyXb4R"
      },
      "execution_count": null,
      "outputs": []
    },
    {
      "cell_type": "markdown",
      "source": [
        "▶ NumberCarsOwned"
      ],
      "metadata": {
        "id": "zZt3Z8IoYUmP"
      }
    },
    {
      "cell_type": "code",
      "source": [
        "customersPurchases.NumberCarsOwned.describe()"
      ],
      "metadata": {
        "id": "Ds3afjoYYZnr"
      },
      "execution_count": null,
      "outputs": []
    },
    {
      "cell_type": "code",
      "source": [
        "customersPurchases.NumberCarsOwned.value_counts()"
      ],
      "metadata": {
        "id": "I7efUmrrlmNw"
      },
      "execution_count": null,
      "outputs": []
    },
    {
      "cell_type": "code",
      "source": [
        "histograma(customersPurchases, \"NumberCarsOwned\", \"Número de coches que posee (NumberCarsOwned)\")"
      ],
      "metadata": {
        "id": "ES_fVgUjYfuH"
      },
      "execution_count": null,
      "outputs": []
    },
    {
      "cell_type": "markdown",
      "source": [
        "\n",
        "<font face=\"Biome\" size=5 color='#0093C0' > Análisis <font>\n",
        "\n",
        "---\n",
        "\n",
        "\n",
        "\n",
        "<font color='4A4A4A'> *El **gasto total** promedio de los clientes es de **1601 euros** , sin embargo, 50% de ellos gasta hasta 325 anualmente. Hay una gran concentración de clientes que gastan hasta 2000. Más o menos la **mitad** de los clientes **compraron bicicleta**, lo que indica un equilibrio con relación a esa variable, lo que será muy útil para análisis posteriores de modelos de clasificación. Con relación a su edad, la **media** y la mediana de los clientes está **alrededor de 58 años**. Un 50% de los clientes tiene edad entre 50 y 66 años. El numero medio de **hijos** por clientes es **1,85**, con una mediana de 2. Aproximadamente 30% de los clientes no tiene ningún hijo. Más de **60%** de los clientes **son propietarios de la casa**, mientras que **77%** de los clientes **tiene por lo menos un coche** (en media 1,51 coche por persona).*"
      ],
      "metadata": {
        "id": "_CCbU79xmAtG"
      }
    },
    {
      "cell_type": "markdown",
      "source": [
        "``` \n",
        "Relaciones entre las variables\n",
        "```"
      ],
      "metadata": {
        "id": "15X9A-r8lviX"
      }
    },
    {
      "cell_type": "markdown",
      "source": [
        "\n",
        "<font face=\"Biome\" size=5 color='#0093C0' > Análisis <font>\n",
        "\n",
        "---\n",
        "\n",
        "\n",
        "\n",
        "<font color='4A4A4A'> *Por fin, para comprender como las variables numéricas se relacionan, fue inicialmente realizada un análisis de correlación, representada en un mapa de calor. A partir de la observación del resultado de la correlación , fueron construídos boxplot para la variable objeto del analisis (compran de bicicleta) y las variables que indicaron tener algun nivel de correlación con ella. Además, fue construido un boxplot para las variables \"Age\" y TotalChildren\" que presentaron una moderada correlación* "
      ],
      "metadata": {
        "id": "z3T0Mtl6pV-x"
      }
    },
    {
      "cell_type": "code",
      "source": [
        "import seaborn as sns\n",
        "\n",
        "#crea mapa de calor\n",
        "sns.heatmap(customersPurchases.corr(), \n",
        "            cmap=\"BuGn\", \n",
        "            annot=True)\n",
        "\n",
        "#agrega título y guarda la figura\n",
        "titulo = \"Matriz de correlación\"\n",
        "plt.title(titulo)\n",
        "plt.savefig(titulo + '.png', bbox_inches=\"tight\")\n",
        "plt.show()"
      ],
      "metadata": {
        "id": "M7aEsreYoWo7"
      },
      "execution_count": null,
      "outputs": []
    },
    {
      "cell_type": "markdown",
      "source": [
        "**Boxplot function**"
      ],
      "metadata": {
        "id": "e90oDtr1xrhn"
      }
    },
    {
      "cell_type": "code",
      "source": [
        "#crea la función para construcción del boxplot\n",
        "def boxplot(dataframe, X, Y, titulo):\n",
        "  #selecciona un color aleatoriamente entre la lista de colores acceptables para la funcción catplot\n",
        "  paleta = ['Accent', 'Accent_r', 'Blues', 'Blues_r', 'BrBG', 'BrBG_r', 'BuGn', 'BuGn_r', 'BuPu', 'BuPu_r', 'CMRmap', 'CMRmap_r', 'Dark2', 'Dark2_r', 'GnBu', 'GnBu_r', 'Greens', 'Greens_r', 'Greys', 'Greys_r', 'OrRd', 'OrRd_r', 'Oranges', 'Oranges_r', 'PRGn', 'PRGn_r', 'Paired', 'Paired_r', 'Pastel1', 'Pastel1_r', 'Pastel2', 'Pastel2_r', 'PiYG', 'PiYG_r', 'PuBu', 'PuBuGn', 'PuBuGn_r', 'PuBu_r', 'PuOr', 'PuOr_r', 'PuRd', 'PuRd_r', 'Purples', 'Purples_r', 'RdBu', 'RdBu_r', 'RdGy', 'RdGy_r', 'RdPu', 'RdPu_r', 'RdYlBu', 'RdYlBu_r', 'RdYlGn', 'RdYlGn_r', 'Reds', 'Reds_r', 'Set1', 'Set1_r', 'Set2', 'Set2_r', 'Set3', 'Set3_r', 'Spectral', 'Spectral_r', 'Wistia', 'Wistia_r', 'YlGn', 'YlGnBu', 'YlGnBu_r', 'YlGn_r', 'YlOrBr', 'YlOrBr_r', 'YlOrRd', 'YlOrRd_r', 'afmhot', 'afmhot_r', 'autumn', 'autumn_r', 'binary', 'binary_r', 'bone', 'bone_r', 'brg', 'brg_r', 'bwr', 'bwr_r', 'cividis', 'cividis_r', 'cool', 'cool_r', 'coolwarm', 'coolwarm_r', 'copper', 'copper_r', 'crest', 'crest_r', 'cubehelix', 'cubehelix_r', 'flag', 'flag_r', 'flare', 'flare_r', 'gist_earth', 'gist_earth_r', 'gist_gray', 'gist_gray_r', 'gist_heat', 'gist_heat_r', 'gist_ncar', 'gist_ncar_r', 'gist_rainbow', 'gist_rainbow_r', 'gist_stern', 'gist_stern_r', 'gist_yarg', 'gist_yarg_r', 'gnuplot', 'gnuplot2', 'gnuplot2_r', 'gnuplot_r', 'gray', 'gray_r', 'hot', 'hot_r', 'hsv', 'hsv_r', 'icefire', 'icefire_r', 'inferno', 'inferno_r', 'jet', 'jet_r']\n",
        "  sns.catplot(x=X, y=Y, data=dataframe, kind=\"box\", aspect=1.5, palette=paleta[random.randint(0, len(paleta))])\n",
        "  \n",
        "  #agrega título del plot, título de los ejes y guarda la figura\n",
        "  plt.title(titulo)\n",
        "  plt.savefig(titulo + '.png', bbox_inches=\"tight\")\n",
        "  plt.show()"
      ],
      "metadata": {
        "id": "mXZ9vYtSvH1h"
      },
      "execution_count": null,
      "outputs": []
    },
    {
      "cell_type": "markdown",
      "source": [
        "▶ Compra de bicicletas x Gasto Total"
      ],
      "metadata": {
        "id": "eAC-JbsJyxTs"
      }
    },
    {
      "cell_type": "code",
      "source": [
        "boxplot(customersPurchases, \"BikePurchase\", \"TotalAmount\", \"Boxplot Compra de bicicletas y Gasto Total\")"
      ],
      "metadata": {
        "id": "UCtilWKry3Gq"
      },
      "execution_count": null,
      "outputs": []
    },
    {
      "cell_type": "markdown",
      "source": [
        "▶ Compra de bicicletas x Edad de los compradores"
      ],
      "metadata": {
        "id": "gsP3BX-5yCIf"
      }
    },
    {
      "cell_type": "code",
      "source": [
        "boxplot(customersPurchases, \"BikePurchase\", \"Age\", \"Boxplot Compra de bicicletas y Edad (en años) de los compradores\")"
      ],
      "metadata": {
        "id": "euq9jZa6yR1p"
      },
      "execution_count": null,
      "outputs": []
    },
    {
      "cell_type": "markdown",
      "source": [
        "▶ Compra de bicicletas x Numero total de niños"
      ],
      "metadata": {
        "id": "_lQmU5k2yL1M"
      }
    },
    {
      "cell_type": "code",
      "source": [
        "boxplot(customersPurchases, \"BikePurchase\", \"TotalChildren\", \"Boxplot Compra de bicicletas y Numero total de niños\")"
      ],
      "metadata": {
        "id": "2EQVs9BexPjY"
      },
      "execution_count": null,
      "outputs": []
    },
    {
      "cell_type": "markdown",
      "source": [
        "▶ Compra de bicicletas x Numero de coches"
      ],
      "metadata": {
        "id": "m4CmEXA6zMro"
      }
    },
    {
      "cell_type": "code",
      "source": [
        "boxplot(customersPurchases, \"BikePurchase\", \"NumberCarsOwned\", \"Boxplot Compra de bicicletas y Numero de Coches\")"
      ],
      "metadata": {
        "id": "2e9CWoyHzQ95"
      },
      "execution_count": null,
      "outputs": []
    },
    {
      "cell_type": "code",
      "source": [
        "boxplot(customersPurchases, \"TotalChildren\", \"Age\", \"Boxplot Numero Total de Niños y Edad de los Compradores\")"
      ],
      "metadata": {
        "id": "MIk4ctxx1iL4"
      },
      "execution_count": null,
      "outputs": []
    },
    {
      "cell_type": "markdown",
      "source": [
        "\n",
        "<font face=\"Biome\" size=5 color='#0093C0' > Análisis <font>\n",
        "\n",
        "---\n",
        "\n",
        "\n",
        "\n",
        "<font color='4A4A4A'> ***Relación entre la variable Compra o no de Bicicleta y:*** \n",
        "\n",
        "<font color='00BBF5'> *Gasto Total:*</font>  *entre los que no compraron bicicleta el gasto total es de menos de 1000 euros, con algunos outliers con gastos de máximo 2000 euros. Entre los que compraron bicicleta, la mediana es de aproximadamente 2000 euros con una dispersión mayor entre los que tuvieron gasto superior a ella. Hay también una cantidad considerables de clientes que tuvieron gastos mayores que el limite superior de cerca de 9000 euros, clasificados cómo outliers.*\n",
        "\n",
        "<font color='00BBF5'> *Edad:*</font>  *con relación a la edad, la mediana entre los que compraron y los que no compraron bicicletas está muy próxima, aunque la edad de los que no compraron bicicleta presenta una mayor dispersión. Ambos los grupos poseen outliers.* \n",
        "\n",
        "<font color='00BBF5'> *Niños:*</font>  *la mediana de niños entre los que no compraron bicicleta es mayor que la misma medida para los que compraron. Mientras 75% de los clientes que compraron bicicleta tienen un máximo de 3 hijos, la misma cantidad entre los que no compraron bicicleta tienen hasta 4 hijos. \n",
        "\n",
        "<font color='00BBF5'> *Número de coches:*</font>  *entre los que no compraron bicicleta, hay una predominancia de clientes con entre 1 y 2 coches. Entre los que compraron bicicleta, hay una mayor dispersión, con un 50% de los clientes con entre 1 y 2 coches.* \n",
        "\n",
        "\n",
        "\n",
        "<font color='4A4A4A'> ***Relación entre las variables Número de niños y Edad:***\n",
        "\n",
        "*La mediana de edad entre los clientes sin niños es menor que todos los otros grupos. Clientes con 2 hijos tiene una mayor mediana de edad, mientras que clientes con 5 hijos poseen mayor dispersión de edad, a pesar de la mediana próxima a de los grupos que poseen 4 y 1 hijo.*"
      ],
      "metadata": {
        "id": "UQU4rXcPqs7q"
      }
    }
  ]
}